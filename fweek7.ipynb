{
 "cells": [
  {
   "cell_type": "code",
   "execution_count": null,
   "metadata": {},
   "outputs": [],
   "source": [
    "import math\n",
    "a = input(\"input your name here: \")\n",
    "print(\"Hello \",a,\" !\")\n",
    "i = 5\n",
    "while i > 0:\n",
    "    try:\n",
    "        b = float(input(\"input your base here: \"))\n",
    "        h = float(input(\"input your exponent here: \"))\n",
    "        b=math.pow(b,h)\n",
    "        print(\"here's the number you want: \",b)\n",
    "        i = -1\n",
    "    except:\n",
    "        if i > 1:\n",
    "            print(\"please print a number\")\n",
    "            i = i - 1\n",
    "        elif i == 1:\n",
    "            print(\"\\n I won't say that you are a dumb.\")\n",
    "            break\n",
    "\n",
    "    #This is still a test"
   ]
  }
 ],
 "metadata": {
  "kernelspec": {
   "display_name": "Python 3.7",
   "language": "python",
   "name": "python3"
  },
  "language_info": {
   "codemirror_mode": {
    "name": "ipython",
    "version": 3
   },
   "file_extension": ".py",
   "mimetype": "text/x-python",
   "name": "python",
   "nbconvert_exporter": "python",
   "pygments_lexer": "ipython3",
   "version": "3.7.0"
  }
 },
 "nbformat": 4,
 "nbformat_minor": 2
}
